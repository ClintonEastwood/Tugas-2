{
 "cells": [
  {
   "cell_type": "markdown",
   "metadata": {
    "id": "1O3NGQSKzf_A"
   },
   "source": [
    "# Data Structure"
   ]
  },
  {
   "cell_type": "markdown",
   "metadata": {
    "id": "m2VWq6g9szIv"
   },
   "source": [
    "<h2>Soal 1: Perbedaan Data Structure</h2>\n",
    "\n",
    "Jawab Pertanyaan di bawah ini:\n",
    "\n",
    "Jelaskan perbedaan dari List, Tuple, Set dan Dictionary!"
   ]
  },
  {
   "cell_type": "markdown",
   "metadata": {
    "id": "vfsQF2Ipxjhe"
   },
   "source": []
  },
  {
   "cell_type": "raw",
   "metadata": {
    "id": "CO_5tbts9Od3"
   },
   "source": [
    "list:\n",
    "-anggota list bisa terisi dari berbagai macam tipe data\n",
    "-diawali dengan kurung siku []\n",
    "\n",
    "tuple:\n",
    "-tipe data anggotanya tidak dapat diubah\n",
    "\n",
    "set:\n",
    "-anggota tipe datanya tak berurut\n",
    "-tidak mengenal indeks\n",
    "-diawali dengan kurung kurawal {}\n",
    "\n",
    "dictionary:\n",
    "-sama seperti set tapi yang membedakan anggotanya terisi dari key dan value yang dipisahkan dengan titik dua"
   ]
  },
  {
   "cell_type": "code",
   "execution_count": 64,
   "metadata": {},
   "outputs": [
    {
     "name": "stdout",
     "output_type": "stream",
     "text": [
      "[111, 222]\n",
      "[222, 333, 444, 555, 666]\n",
      "[888, 222, 333, 444, 555, 666]\n",
      "[222, 333, 444, 555, 666, 888]\n",
      "[888, 333, 444, 555, 666]\n",
      "[888, 333, 444, 555, 666]\n"
     ]
    }
   ],
   "source": [
    "tinggi_badan = [111, 222, 333, 444, 555]\n",
    "\n",
    "tinggi_badan2 = tinggi_badan + [666]\n",
    "\n",
    "tinggi_badan2.insert(8, 'hihi')\n",
    "\n",
    "tinggi_badan2.insert(9, 'haha')\n",
    "\n",
    "del(tinggi_badan2[6:8])\n",
    "\n",
    "print(tinggi_badan2[0:2])\n",
    "\n",
    "tinggi_badan2.pop(0)\n",
    "\n",
    "print(tinggi_badan2)\n",
    "\n",
    "tinggi_badan2.insert(0,888)\n",
    "\n",
    "print(tinggi_badan2)\n",
    "\n",
    "print(sorted(tinggi_badan2))\n",
    "\n",
    "tinggi_badan3 = [i for i in tinggi_badan2 if i > 250]\n",
    "print(tinggi_badan3)\n",
    "\n",
    "print(tinggi_badan3[:])"
   ]
  },
  {
   "cell_type": "markdown",
   "metadata": {
    "id": "-31NFEy_xprf"
   },
   "source": [
    "# List"
   ]
  },
  {
   "cell_type": "markdown",
   "metadata": {
    "id": "XD1fT351szI2"
   },
   "source": [
    "<h2>Soal 2: Akses List</h2>\n",
    "\n",
    "Lengkapi kode untuk menghasilkan suatu output yang di harapkan"
   ]
  },
  {
   "cell_type": "code",
   "execution_count": 70,
   "metadata": {
    "id": "qXKteY88szI5"
   },
   "outputs": [
    {
     "name": "stdout",
     "output_type": "stream",
     "text": [
      "['13b', 'aa1', 1.32, 22.1]\n"
     ]
    }
   ],
   "source": [
    "a = ['1', '13b', 'aa1', 1.32, 22.1, 2.34]\n",
    "# slicing list\n",
    "print(a[-5:5])"
   ]
  },
  {
   "cell_type": "markdown",
   "metadata": {
    "id": "4Qp2wjmOszJJ"
   },
   "source": [
    "Expected Output :\n",
    "\n",
    "[ '13b', 'aa1', 1.32, 22.1 ]"
   ]
  },
  {
   "cell_type": "markdown",
   "metadata": {
    "id": "zKS3e_kTszJm"
   },
   "source": [
    "<h2>Soal 3: Akses Nested List</h2>\n",
    "\n",
    "Lengkapi kode untuk menghasilkan suatu output yang di harapkan"
   ]
  },
  {
   "cell_type": "code",
   "execution_count": 118,
   "metadata": {
    "id": "IhFh_WCzszJo"
   },
   "outputs": [
    {
     "name": "stdout",
     "output_type": "stream",
     "text": [
      "[0, 6]\n"
     ]
    }
   ],
   "source": [
    "a = [\n",
    "    [5, 9, 8],\n",
    "    [0, 0, 6]\n",
    "    ]\n",
    "# subsetting list\n",
    "a.pop(0)\n",
    "b = [a[0][i] for i in range(len(a[0]))]\n",
    "print(b[1:])"
   ]
  },
  {
   "cell_type": "markdown",
   "metadata": {
    "id": "mk5EMa6pszJ2"
   },
   "source": [
    "Expected Output :\n",
    "\n",
    "\n",
    "[0, 6]"
   ]
  },
  {
   "cell_type": "markdown",
   "metadata": {
    "id": "cggENDN4szKX"
   },
   "source": [
    "<h2>Soal 4: List Manipulation</h2>\n",
    "\n",
    "Lengkapi kode untuk menghasilkan suatu output yang di harapkan"
   ]
  },
  {
   "cell_type": "code",
   "execution_count": 173,
   "metadata": {
    "id": "o9_8JDPn8452"
   },
   "outputs": [
    {
     "name": "stdout",
     "output_type": "stream",
     "text": [
      "[[5, 9, 8], [0, 0, 6]]\n",
      "[[5, 9, 10], [11, 0, 6]]\n"
     ]
    }
   ],
   "source": [
    "a = [\n",
    "    [5, 9, 8],\n",
    "    [0, 0, 6]\n",
    "    ]\n",
    "# change list value\n",
    "\n",
    "\n",
    "print(a)\n",
    "a[0].remove(8)\n",
    "a[0].insert(2, 10)\n",
    "a[1].remove(0)\n",
    "a[1].insert(0, 11)\n",
    "print(a)"
   ]
  },
  {
   "cell_type": "markdown",
   "metadata": {
    "id": "iYHFRJW7szKl"
   },
   "source": [
    "Expected Output :\n",
    "\n",
    "[ [5, 9, 10], [11, 0, 6] ]"
   ]
  },
  {
   "cell_type": "markdown",
   "metadata": {
    "id": "dSTDqY9iszKn"
   },
   "source": [
    "<h2>Soal 5: Delete Element List</h2>\n",
    "\n",
    "Lengkapi kode untuk menghasilkan suatu output yang di harapkan"
   ]
  },
  {
   "cell_type": "code",
   "execution_count": 208,
   "metadata": {
    "id": "JXCqRPUO8_qI"
   },
   "outputs": [
    {
     "name": "stdout",
     "output_type": "stream",
     "text": [
      "['hallway', 11.25, 'kitchen', 18.0, 'chill zone', 20.0, 'bedroom', 10.75, 'poolhouse', 24.5, 'garage', 15.45]\n"
     ]
    }
   ],
   "source": [
    "areas = [\"hallway\", 11.25, \"kitchen\", 18.0,\n",
    "        \"chill zone\", 20.0, \"bedroom\", 10.75,\n",
    "         \"bathroom\", 10.50, \"poolhouse\", 24.5,\n",
    "         \"garage\", 15.45]\n",
    "\n",
    "# Hilangkan elemen yang bernilai \"bathroom\" dan 10.50 dalam satu statement code\n",
    "\n",
    "del areas[8:10]\n",
    "print(areas)"
   ]
  },
  {
   "cell_type": "markdown",
   "metadata": {
    "id": "ZeF61jc_szK1"
   },
   "source": [
    "Expected Output:\n",
    "\n",
    "['hallway',\n",
    " 11.25,\n",
    " 'kitchen',\n",
    " 18.0,\n",
    " 'chill zone',\n",
    " 20.0,\n",
    " 'bedroom',\n",
    " 10.75,\n",
    " 'poolhouse',\n",
    " 24.5,\n",
    " 'garage',\n",
    " 15.45]\n",
    "\n"
   ]
  },
  {
   "cell_type": "markdown",
   "metadata": {
    "id": "onKmJ3XqY5FN"
   },
   "source": [
    "## Soal 6: List Comprehension\n",
    "\n",
    "Gunakan metode **list comprehension** untuk mencari anggota dari S yang habis di bagi 2, kemudian assign hasilnya dalam bentuk list ke dalam variabel T."
   ]
  },
  {
   "cell_type": "code",
   "execution_count": 214,
   "metadata": {
    "id": "sUIB3iXK9H3K"
   },
   "outputs": [
    {
     "name": "stdout",
     "output_type": "stream",
     "text": [
      "[0, 4, 16, 36, 64]\n"
     ]
    }
   ],
   "source": [
    "S = [0, 1, 4, 9, 16, 25, 36, 49, 64, 81]\n",
    "\n",
    "T = [i for i in S if i%2 == 0]\n",
    "\n",
    "print(T)"
   ]
  },
  {
   "cell_type": "markdown",
   "metadata": {
    "id": "Jjn-28CDaShb"
   },
   "source": [
    "Expected Output:\n",
    "\n",
    "[0, 4, 16, 36, 64]"
   ]
  },
  {
   "cell_type": "markdown",
   "metadata": {
    "id": "C7ztBLG19LM6"
   },
   "source": [
    "\n",
    "\n",
    "---\n",
    "\n",
    "\n",
    "\n",
    "---\n",
    "\n"
   ]
  },
  {
   "cell_type": "markdown",
   "metadata": {
    "id": "yK3s_CB69Tx0"
   },
   "source": [
    "# Tuple"
   ]
  },
  {
   "cell_type": "markdown",
   "metadata": {
    "id": "vIvG32Rp9WvI"
   },
   "source": [
    "## Soal 7. Mengakses Tuple\n",
    "\n",
    "Gunakan cara sclicing untuk mengakses tuple sehingga mendapatkan hasil sesuai expected output"
   ]
  },
  {
   "cell_type": "code",
   "execution_count": 218,
   "metadata": {
    "id": "XNsuiSLABsmQ"
   },
   "outputs": [
    {
     "name": "stdout",
     "output_type": "stream",
     "text": [
      "(6, 7, 8)\n"
     ]
    }
   ],
   "source": [
    "tuple_1 = (1, 2, 6, 7, 8, 9, 10)\n",
    "\n",
    "#akses tuple\n",
    "\n",
    "tuple_2 = tuple_1[2:-2]\n",
    "\n",
    "print(tuple_2)\n"
   ]
  },
  {
   "cell_type": "markdown",
   "metadata": {
    "id": "yJRgSBHKBvyD"
   },
   "source": [
    "Expected Outpout:\n",
    "\n",
    "\n",
    "(6, 7, 8)"
   ]
  },
  {
   "cell_type": "code",
   "execution_count": 220,
   "metadata": {},
   "outputs": [
    {
     "name": "stdout",
     "output_type": "stream",
     "text": [
      "one = 1\n",
      "two = 2\n",
      "three = 3\n"
     ]
    }
   ],
   "source": [
    "numbers = {'one':1, 'two':2, 'three':3}\n",
    "\n",
    "for k in numbers:\n",
    "    print(\"{} = {}\".format(k, numbers[k]))"
   ]
  },
  {
   "cell_type": "markdown",
   "metadata": {
    "id": "1oT6SOCmEuLA"
   },
   "source": [
    "\n",
    "\n",
    "---\n",
    "\n",
    "\n",
    "\n",
    "---\n",
    "\n"
   ]
  },
  {
   "cell_type": "markdown",
   "metadata": {
    "id": "gdBwjXz8zoMi"
   },
   "source": [
    "# Dictionary"
   ]
  },
  {
   "cell_type": "markdown",
   "metadata": {
    "id": "qjMKbE9D6qow"
   },
   "source": [
    "<h2>Soal 8: Menambahkan key-value baru ke Dictionary</h2>\n",
    "\n",
    "Lengkapi kode untuk menghasilkan suatu output yang di harapkan"
   ]
  },
  {
   "cell_type": "code",
   "execution_count": 222,
   "metadata": {
    "id": "rU7Z5dzC6qox"
   },
   "outputs": [
    {
     "name": "stdout",
     "output_type": "stream",
     "text": [
      "{'spain': 'madrid', 'france': 'paris', 'germany': 'berlin', 'norway': 'oslo', 'itali': 'roma'}\n"
     ]
    },
    {
     "data": {
      "text/plain": [
       "True"
      ]
     },
     "execution_count": 222,
     "metadata": {},
     "output_type": "execute_result"
    }
   ],
   "source": [
    "europe = {'spain':'madrid', 'france':'paris', 'germany':'berlin', 'norway':'oslo' }\n",
    "\n",
    "# tambahkan key itali ke objek dictionary dengan value roma\n",
    "\n",
    "europe['itali'] = 'roma'\n",
    "\n",
    "print(europe)\n",
    "\n",
    "\n",
    "# cek apakah itali ada di dalam objek dictionary\n",
    "\n",
    "'itali' in europe\n"
   ]
  },
  {
   "cell_type": "markdown",
   "metadata": {
    "id": "ur84PUyz6qo1"
   },
   "source": [
    "Expected Output:\n",
    "    \n",
    "True"
   ]
  },
  {
   "cell_type": "markdown",
   "metadata": {
    "id": "bgilSLKl6qo2"
   },
   "source": [
    "<h2>Soal 9: Update dan Remove Dictinary</h2>\n",
    "    \n",
    "Lengkapi kode untuk menghasilkan suatu output yang di harapkan"
   ]
  },
  {
   "cell_type": "code",
   "execution_count": 228,
   "metadata": {
    "id": "kglSlEvvFG15"
   },
   "outputs": [
    {
     "name": "stdout",
     "output_type": "stream",
     "text": [
      "{'spain': 'madrid', 'france': 'paris', 'germany': 'berlin', 'norway': 'oslo', 'italy': 'rome', 'poland': 'warsaw'}\n"
     ]
    }
   ],
   "source": [
    "europe = {'spain':'madrid', 'france':'paris', 'germany':'bonn',\n",
    "          'norway':'oslo', 'italy':'rome', 'poland':'warsaw',\n",
    "          'australia':'vienna' }\n",
    "\n",
    "# update nilai ibukota german ke berlin\n",
    "\n",
    "europe['germany'] = 'berlin'\n",
    "\n",
    "\n",
    "\n",
    "# remove australia dari europa\n",
    "\n",
    "europe.pop('australia')\n",
    "\n",
    "print(europe)\n"
   ]
  },
  {
   "cell_type": "markdown",
   "metadata": {
    "id": "VDpHuoXS6qo6"
   },
   "source": [
    "Expected Output:\n",
    "\n",
    "{'spain': 'madrid', 'france': 'paris', 'germany': 'berlin', 'norway': 'oslo', 'italy': 'rome', 'poland': 'warsaw'}"
   ]
  },
  {
   "cell_type": "markdown",
   "metadata": {
    "id": "FNWyId1S6qo7"
   },
   "source": [
    "<h2>Soal 10: Nested Dictionary</h2>\n",
    "    \n",
    "Lengkapi kode untuk menghasilkan suatu output yang di harapkan"
   ]
  },
  {
   "cell_type": "code",
   "execution_count": 237,
   "metadata": {
    "id": "GZTie49zFTh5"
   },
   "outputs": [
    {
     "name": "stdout",
     "output_type": "stream",
     "text": [
      "80.62\n",
      "{'spain': {'capital': 'madrid', 'population': 46.77}, 'france': {'capital': 'paris', 'population': 66.03}, 'germany': {'capital': 'berlin', 'population': 80.62}, 'norway': {'capital': 'oslo', 'population': 5.084}, 'indonesia': {'capital': 'jakarta', 'population': '250'}}\n"
     ]
    }
   ],
   "source": [
    "country = { \n",
    "           'spain': { 'capital':'madrid', 'population':46.77 },\n",
    "           'france': { 'capital':'paris', 'population':66.03 },\n",
    "           'germany': { 'capital':'berlin', 'population':80.62 },\n",
    "           'norway': { 'capital':'oslo', 'population':5.084 } \n",
    "         }\n",
    "\n",
    "# berapa populasi dari kota german?\n",
    "\n",
    "print(country['germany']['population'])\n",
    "\n",
    "# update data baru, yaitu negara indonesia dengan capital jakarta dan poulasi 250\n",
    "\n",
    "country['indonesia'] = {'capital':'jakarta', 'population':'250'}\n",
    "\n",
    "print(country)"
   ]
  },
  {
   "cell_type": "markdown",
   "metadata": {
    "id": "fKT0REFD6qo_"
   },
   "source": [
    "Expected Output:\n",
    "\n",
    "80.62\n",
    "\n",
    "{'spain': {'capital': 'madrid', 'population': 46.77}, 'france': {'capital': 'paris', 'population': 66.03}, 'germany': {'capital': 'berlin', 'population': 80.62}, 'norway': {'capital': 'oslo', 'population': 5.084}, 'indonesia': {'capital': 'jakarta', 'population': 250}}"
   ]
  },
  {
   "cell_type": "markdown",
   "metadata": {
    "id": "xefUN_T56qpA"
   },
   "source": [
    "<h2>Soal 11: Loop Dictionary</h2>\n",
    "    \n",
    "Lengkapi kode untuk menghasilkan suatu output yang di harapkan"
   ]
  },
  {
   "cell_type": "code",
   "execution_count": 282,
   "metadata": {
    "id": "6--DAeB8Fjwo"
   },
   "outputs": [
    {
     "name": "stdout",
     "output_type": "stream",
     "text": [
      "Ibukota spain adalah madrid\n",
      "Ibukota france adalah paris\n",
      "Ibukota germany adalah berlin\n",
      "Ibukota norway adalah oslo\n",
      "Ibukota indonesia adalah jakarta\n"
     ]
    }
   ],
   "source": [
    "country = { \n",
    "           'spain': { 'capital':'madrid', 'population':46.77 },\n",
    "           'france': { 'capital':'paris', 'population':66.03 },\n",
    "           'germany': { 'capital':'berlin', 'population':80.62 },\n",
    "           'norway': { 'capital':'oslo', 'population':5.084 },\n",
    "           'indonesia' : {'capital':'jakarta', 'population':250}\n",
    "         }\n",
    "\n",
    "for i, value in country.items():\n",
    "    print(\"Ibukota \" + i + \" adalah \" + value['capital'])"
   ]
  },
  {
   "cell_type": "markdown",
   "metadata": {
    "id": "YjX6xAtj6qpE"
   },
   "source": [
    "Expected Output:\n",
    "    \n",
    "Ibukota spain adalah madrid\n",
    "\n",
    "Ibukota france adalah paris\n",
    "\n",
    "Ibukota germany adalah berlin\n",
    "\n",
    "Ibukota norway adalah oslo\n",
    "\n",
    "Ibukota indonesia adalah jakarta"
   ]
  },
  {
   "cell_type": "markdown",
   "metadata": {
    "id": "y2zgwVoWFrvN"
   },
   "source": [
    "\n",
    "\n",
    "---\n",
    "\n",
    "\n",
    "\n",
    "---\n",
    "\n"
   ]
  },
  {
   "cell_type": "markdown",
   "metadata": {
    "id": "WqSWJGhxFtLL"
   },
   "source": [
    "# Set"
   ]
  },
  {
   "cell_type": "markdown",
   "metadata": {
    "id": "hcGbe-6hFxQr"
   },
   "source": [
    "## Soal 12: Remove Duplicate using set\n",
    "\n",
    "\n",
    "Hilangkan nilai duplikat dari sebuah objek list dengan menggunakan cara set sehingga menjadi sebuah tipe set"
   ]
  },
  {
   "cell_type": "code",
   "execution_count": 291,
   "metadata": {
    "id": "NNVA6tNqFsan"
   },
   "outputs": [
    {
     "name": "stdout",
     "output_type": "stream",
     "text": [
      "[1, 2, 3, 4, 5, 6, 7, 8, 9, 10]\n",
      "{1, 2, 3, 4, 5, 6, 7, 8, 9, 10}\n"
     ]
    }
   ],
   "source": [
    "obj_list = [1, 2, 3, 4, 5, 5, 6, 7, 8, 9, 9, 10]\n",
    "\n",
    "for i in obj_list:\n",
    "    if obj_list.count(i) > 1:\n",
    "        obj_list.remove(i)\n",
    "\n",
    "print(obj_list)\n",
    "\n",
    "#using set\n",
    "\n",
    "set_a = {1,2,3,4}\n",
    "set_b = {5,6,7,8,9,10}\n",
    "\n",
    "print(set_a|set_b)"
   ]
  },
  {
   "cell_type": "markdown",
   "metadata": {
    "id": "mYiIvESyGeSM"
   },
   "source": [
    "Expected output: \n",
    "\n",
    "{1, 2, 3, 4, 5, 6, 7, 8, 9, 10}"
   ]
  },
  {
   "cell_type": "markdown",
   "metadata": {
    "id": "7yDz5di2HIR0"
   },
   "source": [
    "## Soal 13: Mengubah dan menghapus anggota set\n",
    "\n",
    "Ubahlah dan hapus anggota set sehingga mendapatkan hasil yang diinginkan\n"
   ]
  },
  {
   "cell_type": "code",
   "execution_count": 296,
   "metadata": {
    "id": "ecDrSJFrN3E0"
   },
   "outputs": [
    {
     "name": "stdout",
     "output_type": "stream",
     "text": [
      "{8, 6, 7}\n",
      "{1, 2, 3, 4, 5, 6, 7, 8}\n",
      "{1, 2, 3, 4, 5, 6, 7}\n"
     ]
    }
   ],
   "source": [
    "set_1 = {1, 2, 3, 4, 5}\n",
    "\n",
    "#tambahkan anggota set dengan nilai {6,7,8}\n",
    "set_2 = {6,7,8}\n",
    "print(set_2)\n",
    "set_1.update(set_2)\n",
    "print(set_1)\n",
    "#hapus nilai anggota set 8\n",
    "\n",
    "set_1.remove(8)\n",
    "print(set_1)\n"
   ]
  },
  {
   "cell_type": "markdown",
   "metadata": {
    "id": "ivvRxwHgOibz"
   },
   "source": [
    "Expected output:\n",
    "\n",
    "{1, 2, 3, 4, 5, 6, 7}"
   ]
  },
  {
   "cell_type": "markdown",
   "metadata": {
    "id": "Zl8p-uBuO7Av"
   },
   "source": [
    "## Soal 14: Operasi pada Set\n",
    "\n",
    "Carilah irisan dari ke dua set dengan menggunakan metode intersection"
   ]
  },
  {
   "cell_type": "code",
   "execution_count": 309,
   "metadata": {
    "colab": {
     "base_uri": "https://localhost:8080/"
    },
    "id": "PQLEqbUCOWPN",
    "outputId": "b19ab378-ae3d-418c-8e48-510f514ec20f"
   },
   "outputs": [
    {
     "name": "stdout",
     "output_type": "stream",
     "text": [
      "[6, 8, 10]\n"
     ]
    }
   ],
   "source": [
    "set_2 = {6, 8, 9, 10, 24}\n",
    "set_3 = {6, 10, 8, 25, 13}\n",
    "\n",
    "#intersection set\n",
    "a = sorted(set_2 & set_3)\n",
    "print(a)"
   ]
  },
  {
   "cell_type": "markdown",
   "metadata": {
    "id": "5a2uwgZbPk6Z"
   },
   "source": [
    "Expected output:\n",
    "\n",
    "\n",
    "{6, 8, 10}"
   ]
  },
  {
   "cell_type": "markdown",
   "metadata": {
    "id": "txdh4OI0Pr6p"
   },
   "source": [
    "\n",
    "\n",
    "---\n",
    "\n",
    "\n",
    "\n",
    "---\n",
    "\n"
   ]
  }
 ],
 "metadata": {
  "colab": {
   "collapsed_sections": [],
   "name": "Tugas Hari 2.ipynb",
   "provenance": []
  },
  "kernelspec": {
   "display_name": "Python 3 (ipykernel)",
   "language": "python",
   "name": "python3"
  },
  "language_info": {
   "codemirror_mode": {
    "name": "ipython",
    "version": 3
   },
   "file_extension": ".py",
   "mimetype": "text/x-python",
   "name": "python",
   "nbconvert_exporter": "python",
   "pygments_lexer": "ipython3",
   "version": "3.9.13"
  }
 },
 "nbformat": 4,
 "nbformat_minor": 1
}
